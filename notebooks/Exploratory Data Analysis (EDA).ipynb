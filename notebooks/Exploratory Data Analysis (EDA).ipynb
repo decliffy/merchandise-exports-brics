{
 "cells": [
  {
   "cell_type": "markdown",
   "metadata": {
    "collapsed": true,
    "pycharm": {
     "name": "#%% md\n"
    }
   },
   "source": [
    "# Merchandise exports by product group (BRICS)"
   ]
  },
  {
   "cell_type": "markdown",
   "source": [
    "Explore the merchandise exports by BRICS countries over the last two decades."
   ],
   "metadata": {
    "collapsed": false,
    "pycharm": {
     "name": "#%% md\n"
    }
   }
  },
  {
   "cell_type": "code",
   "execution_count": 2,
   "outputs": [],
   "source": [
    "%matplotlib inline\n",
    "import pandas as pd\n",
    "import matplotlib.pyplot as plt\n",
    "import seaborn as sns"
   ],
   "metadata": {
    "collapsed": false,
    "pycharm": {
     "name": "#%%\n"
    }
   }
  },
  {
   "cell_type": "code",
   "execution_count": 3,
   "outputs": [],
   "source": [
    "merch_exports = pd.read_csv(r'../data/WtoData_20220206161400.csv', encoding = 'ISO-8859-1')"
   ],
   "metadata": {
    "collapsed": false,
    "pycharm": {
     "name": "#%%\n"
    }
   }
  },
  {
   "cell_type": "code",
   "execution_count": 4,
   "outputs": [
    {
     "data": {
      "text/plain": "Index(['indicator_category', 'indicator_code', 'indicator',\n       'reporting_economy_code', 'reporting_economy_iso3a_code',\n       'reporting_economy', 'partner_economy_code',\n       'partner_economy_iso3a_code', 'partner_economy',\n       'product_sector_classification_code', 'product_sector_classification',\n       'product_sector_code', 'product_sector', 'period_code', 'period',\n       'frequency_code', 'frequency', 'unit_code', 'unit', 'year',\n       'value_flag_code', 'value_flag', 'text_value', 'value'],\n      dtype='object')"
     },
     "execution_count": 4,
     "metadata": {},
     "output_type": "execute_result"
    }
   ],
   "source": [
    "merch_exports.columns = [col.strip().lower().replace(' ','_') for col in merch_exports.columns]\n",
    "merch_exports.columns = [col.strip().lower().replace('/','_') for col in merch_exports.columns]\n",
    "merch_exports.columns"
   ],
   "metadata": {
    "collapsed": false,
    "pycharm": {
     "name": "#%%\n"
    }
   }
  },
  {
   "cell_type": "code",
   "execution_count": 5,
   "outputs": [
    {
     "data": {
      "text/plain": "<Figure size 1440x360 with 1 Axes>",
      "image/png": "[encoded data removed]"
     },
     "metadata": {},
     "output_type": "display_data"
    }
   ],
   "source": [
    "sns.set(rc={\"figure.figsize\":(20, 5)}) #width=20, #height=5\n",
    "\n",
    "fig, ax = plt.subplots()\n",
    "gfg = sns.histplot(merch_exports.year, ax=ax)  # distplot is deprecate and replaced by histplot\n",
    "ax.set_xlim(2002,2022)\n",
    "ax.set_xticks(range(2002,2022))\n",
    "\n",
    "gfg.set(xlabel =\"Year\", ylabel = \"# of records\", title ='Dataset records available by year')\n",
    "plt.show()"
   ],
   "metadata": {
    "collapsed": false,
    "pycharm": {
     "name": "#%%\n"
    }
   }
  },
  {
   "cell_type": "markdown",
   "source": [
    "## Which BRICS country was the top exporter of Clothing in the year 2020?"
   ],
   "metadata": {
    "collapsed": false,
    "pycharm": {
     "name": "#%% md\n"
    }
   }
  },
  {
   "cell_type": "code",
   "execution_count": 31,
   "outputs": [],
   "source": [
    "merch_exports= merch_exports[(merch_exports.year==2020) & \\\n",
    "                             (merch_exports.indicator_code=='ITS_MTV_AX') & \\\n",
    "                             (merch_exports.period=='Annual')][['reporting_economy','product_sector_code','product_sector','value']].head(1000)"
   ],
   "metadata": {
    "collapsed": false,
    "pycharm": {
     "name": "#%%\n"
    }
   }
  },
  {
   "cell_type": "code",
   "execution_count": 36,
   "outputs": [
    {
     "data": {
      "text/plain": "reporting_economy   product_sector\nBrazil              Clothing             121.726392\nChina               Clothing          141587.159316\nChinese Taipei      Clothing             628.410459\nHong Kong, China    Clothing            8231.697265\nIndia               Clothing           12973.179039\nMacao, China        Clothing             174.159292\nRussian Federation  Clothing             577.144395\nSouth Africa        Clothing             358.456314\nName: value, dtype: float64"
     },
     "execution_count": 36,
     "metadata": {},
     "output_type": "execute_result"
    }
   ],
   "source": [
    "merch_exports[merch_exports.product_sector == 'Clothing'].groupby(['reporting_economy','product_sector'])['value'].sum()"
   ],
   "metadata": {
    "collapsed": false,
    "pycharm": {
     "name": "#%%\n"
    }
   }
  },
  {
   "cell_type": "code",
   "execution_count": null,
   "outputs": [],
   "source": [],
   "metadata": {
    "collapsed": false,
    "pycharm": {
     "name": "#%%\n"
    }
   }
  }
 ],
 "metadata": {
  "kernelspec": {
   "display_name": "Python 3",
   "language": "python",
   "name": "python3"
  },
  "language_info": {
   "codemirror_mode": {
    "name": "ipython",
    "version": 2
   },
   "file_extension": ".py",
   "mimetype": "text/x-python",
   "name": "python",
   "nbconvert_exporter": "python",
   "pygments_lexer": "ipython2",
   "version": "2.7.6"
  }
 },
 "nbformat": 4,
 "nbformat_minor": 0
}